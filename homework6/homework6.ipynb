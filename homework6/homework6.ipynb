{
 "cells": [
  {
   "cell_type": "code",
   "execution_count": 1,
   "id": "94ffb6c6-19aa-44f7-976a-59d69b4c896b",
   "metadata": {},
   "outputs": [],
   "source": [
    "import numpy as np"
   ]
  },
  {
   "cell_type": "code",
   "execution_count": 23,
   "id": "dd64e5ff-97bb-405a-bf2d-9c1e5209ebaf",
   "metadata": {},
   "outputs": [
    {
     "name": "stdout",
     "output_type": "stream",
     "text": [
      "[ 80 108  36  48 124  68  16 200 156 140]\n",
      "97.6\n",
      "94.0\n",
      "55.31582052180009\n",
      "6\n",
      "7\n",
      "16\n",
      "200\n",
      "16\n",
      "200\n",
      "[ 80 108  36  48 124  68 200 156 140]\n"
     ]
    }
   ],
   "source": [
    "#3.1\n",
    "list = [20, 27, 9, 12, 31, 17, 4, 50, 39, 35]\n",
    "arr = np.array(list) * 4\n",
    "print(arr)\n",
    "print(np.mean(arr))\n",
    "print(np.median(arr))\n",
    "print(np.std(arr))\n",
    "print(np.argmin(arr))\n",
    "print(np.argmax(arr))\n",
    "print(arr[np.argmin(arr)])\n",
    "print(arr[np.argmax(arr)])\n",
    "print(np.min(arr))\n",
    "print(np.max(arr))\n",
    "print(arr[arr>20])"
   ]
  },
  {
   "cell_type": "code",
   "execution_count": 46,
   "id": "1fb311eb-c547-4a3b-893b-cacb3c6ac797",
   "metadata": {},
   "outputs": [
    {
     "name": "stdout",
     "output_type": "stream",
     "text": [
      "(3, 4)\n",
      "[17 14 19]\n",
      "[ 8 21 14  3]\n",
      "[[10 24 34 18]\n",
      " [16 42 28  6]\n",
      " [12 26 38 22]]\n",
      "[ 6.33333333 15.33333333 16.66666667  7.66666667]\n",
      "11.5\n",
      "[ 5 12 17  9  8 21 14  3  6 13 19 11]\n",
      "5\n",
      "7\n",
      "(np.int64(1), np.int64(1))\n",
      "(np.int64(1), np.int64(3))\n",
      "[17 21 19]\n",
      "[[ 5  9 12 17]\n",
      " [ 3  8 14 21]\n",
      " [ 6 11 13 19]]\n"
     ]
    }
   ],
   "source": [
    "# 3.2\n",
    "matrix = np.array([\n",
    "[5, 12, 17, 9],\n",
    "[8, 21, 14, 3],\n",
    "[6, 13, 19, 11]\n",
    "])\n",
    "print(matrix.shape)\n",
    "print(matrix[:,2])\n",
    "print(matrix[1,:])\n",
    "print(matrix * 2)\n",
    "print(matrix.mean(axis = 0))\n",
    "print(matrix.mean())\n",
    "print(matrix.flatten())# it makes the matrix into a 1 by 1 matrix\n",
    "print(np.argmax(matrix.flatten()))\n",
    "print(np.argmin(matrix.flatten()))\n",
    "print(np.unravel_index(np.argmax(matrix.flatten()),matrix.shape))\n",
    "print(np.unravel_index(np.argmin(matrix.flatten()),matrix.shape))\n",
    "print(matrix[matrix>15])\n",
    "print(np.sort(matrix, axis = 1))"
   ]
  },
  {
   "cell_type": "markdown",
   "id": "92d1770f-4238-4df9-a03b-d89871c48f6c",
   "metadata": {},
   "source": []
  },
  {
   "cell_type": "code",
   "execution_count": 51,
   "id": "4d0741bb-f1ad-44a5-a7b8-10e7d92160b1",
   "metadata": {},
   "outputs": [
    {
     "name": "stdout",
     "output_type": "stream",
     "text": [
      "[[ 2  3  5]\n",
      " [11 13 17]\n",
      " [ 7 10 13]]\n"
     ]
    }
   ],
   "source": [
    "# 4\n",
    "arr = np.array([\n",
    "[2, 3, 5],\n",
    "[14, 6, 8],\n",
    "[11, 13, 17],\n",
    "[7, 10, 13]\n",
    "])\n",
    "\n",
    "def row_primes(a: np.ndarray) -> np.ndarray:\n",
    "    primes = {2, 3, 5, 7, 11, 13, 17}\n",
    "    keep_rows = []\n",
    "    for row in a:\n",
    "        for x in row:\n",
    "            if x in primes:\n",
    "                keep_rows.append(row)\n",
    "                break \n",
    "    return np.array(keep_rows)\n",
    "print(row_primes(arr))"
   ]
  },
  {
   "cell_type": "code",
   "execution_count": 62,
   "id": "fa7d67d8-6f6a-488f-9885-3146f338fc2d",
   "metadata": {},
   "outputs": [
    {
     "name": "stdout",
     "output_type": "stream",
     "text": [
      "[[0. 0. 0. 0. 0. 0. 0. 0.]\n",
      " [0. 0. 0. 0. 0. 0. 0. 0.]\n",
      " [0. 0. 0. 0. 0. 0. 0. 0.]\n",
      " [0. 0. 0. 0. 0. 0. 0. 0.]\n",
      " [0. 0. 0. 0. 0. 0. 0. 0.]\n",
      " [0. 0. 0. 0. 0. 0. 0. 0.]\n",
      " [0. 0. 0. 0. 0. 0. 0. 0.]\n",
      " [0. 0. 0. 0. 0. 0. 0. 0.]]\n",
      "[[1 0 1 0 1 0 1 0]\n",
      " [0 1 0 1 0 1 0 1]\n",
      " [1 0 1 0 1 0 1 0]\n",
      " [0 1 0 1 0 1 0 1]\n",
      " [1 0 1 0 1 0 1 0]\n",
      " [0 1 0 1 0 1 0 1]\n",
      " [1 0 1 0 1 0 1 0]\n",
      " [0 1 0 1 0 1 0 1]]\n",
      "[[0 1 0 1 0 1 0 1]\n",
      " [1 0 1 0 1 0 1 0]\n",
      " [0 1 0 1 0 1 0 1]\n",
      " [1 0 1 0 1 0 1 0]\n",
      " [0 1 0 1 0 1 0 1]\n",
      " [1 0 1 0 1 0 1 0]\n",
      " [0 1 0 1 0 1 0 1]\n",
      " [1 0 1 0 1 0 1 0]]\n"
     ]
    }
   ],
   "source": [
    "# 5\n",
    "arr = np.zeros((8,8))\n",
    "print(arr)\n",
    "    \n",
    "def checkerboard():\n",
    "    B = np.zeros((8, 8), dtype=int)\n",
    "    B[::2, ::2] = 1\n",
    "    B[1::2, 1::2] = 1\n",
    "    return B\n",
    "print(checkerboard())\n",
    "\n",
    "def reverse_checkerboard():\n",
    "    return 1 - checkerboard()\n",
    "print(reverse_checkerboard())"
   ]
  },
  {
   "cell_type": "code",
   "execution_count": 65,
   "id": "b8405a46-a798-43e0-a58a-e2e1607069ef",
   "metadata": {},
   "outputs": [
    {
     "name": "stdout",
     "output_type": "stream",
     "text": [
      "['g  a  l  a  x  y' 'c  l  u  s  t  e  r  s']\n"
     ]
    }
   ],
   "source": [
    "# 6\n",
    "def expansion(arr, n):\n",
    "    return np.char.join(' ' * n, arr)\n",
    "universe = np.array(['galaxy', 'clusters'])\n",
    "print(expansion(universe, 2))"
   ]
  },
  {
   "cell_type": "code",
   "execution_count": 68,
   "id": "8c3e6f23-5f97-4fd8-91ea-7e9eef1b6a41",
   "metadata": {},
   "outputs": [
    {
     "name": "stdout",
     "output_type": "stream",
     "text": [
      "[[1889 1906 1846 1622 1541]\n",
      " [ 606 1647 1738  596  613]\n",
      " [1138  547  573 1442  724]\n",
      " [ 611 1933 1863 1346 1777]\n",
      " [ 920 1108 1732 1592  951]]\n",
      "[1889 1647 1138 1863 1592]\n"
     ]
    }
   ],
   "source": [
    "# 7\n",
    "def second_brightest(a: np.ndarray) -> np.ndarray:\n",
    "    return np.sort(a, axis=1)[:, -2]\n",
    "np.random.seed(123)\n",
    "stars = np.random.randint(500, 2000, (5, 5))\n",
    "print(stars)\n",
    "print(second_brightest(stars))"
   ]
  },
  {
   "cell_type": "code",
   "execution_count": null,
   "id": "dd5fe234-36ee-4c7d-b593-558529d57c70",
   "metadata": {},
   "outputs": [],
   "source": []
  }
 ],
 "metadata": {
  "kernelspec": {
   "display_name": "Python [conda env:base] *",
   "language": "python",
   "name": "conda-base-py"
  },
  "language_info": {
   "codemirror_mode": {
    "name": "ipython",
    "version": 3
   },
   "file_extension": ".py",
   "mimetype": "text/x-python",
   "name": "python",
   "nbconvert_exporter": "python",
   "pygments_lexer": "ipython3",
   "version": "3.13.5"
  }
 },
 "nbformat": 4,
 "nbformat_minor": 5
}
