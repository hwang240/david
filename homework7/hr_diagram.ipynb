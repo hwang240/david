{
 "cells": [
  {
   "cell_type": "code",
   "execution_count": 1,
   "id": "730aac56-c98a-46a7-8f87-6417ef4533f1",
   "metadata": {},
   "outputs": [],
   "source": [
    "import numpy as np\n",
    "import matplotlib.pyplot as plt\n",
    "from pathlib import Path"
   ]
  },
  {
   "cell_type": "code",
   "execution_count": 4,
   "id": "a3b3e819-028c-4255-a28f-1d12f39f98d8",
   "metadata": {},
   "outputs": [
    {
     "name": "stdout",
     "output_type": "stream",
     "text": [
      "CWD: /Users/davidw/python_decal_fa25/david/homework7\n",
      "\n",
      "Here: ['.ipynb_checkpoints', 'homework7.ipynb', 'hw7_branch.png', 'hr_diagram.ipynb']\n",
      "\n",
      "Up one: ['.DS_Store', 'homework7', '.virtual_documents', '.git']\n",
      "\n",
      "Up two: ['Untitled1.ipynb', '.DS_Store', 'course_assignments', 'Untitled.ipynb', 'lecture_notes', 'david', 'panda.ipynb', '.ipynb_checkpoints', 'numpy_arrays.ipynb', 'students.csv']\n"
     ]
    }
   ],
   "source": [
    "from pathlib import Path\n",
    "import os\n",
    "\n",
    "print(\"CWD:\", os.getcwd())\n",
    "print(\"\\nHere:\", [p.name for p in Path('.').iterdir()])\n",
    "print(\"\\nUp one:\", [p.name for p in Path('..').iterdir()])\n",
    "print(\"\\nUp two:\", [p.name for p in Path('..').joinpath('..').iterdir()])\n"
   ]
  },
  {
   "cell_type": "code",
   "execution_count": null,
   "id": "e6b6f0ba-35b0-4368-9cf0-8c9f5d0041d9",
   "metadata": {},
   "outputs": [],
   "source": []
  },
  {
   "cell_type": "code",
   "execution_count": null,
   "id": "2e8b8117-6c81-4090-954c-d8d7c070592c",
   "metadata": {},
   "outputs": [],
   "source": []
  }
 ],
 "metadata": {
  "kernelspec": {
   "display_name": "Python [conda env:base] *",
   "language": "python",
   "name": "conda-base-py"
  },
  "language_info": {
   "codemirror_mode": {
    "name": "ipython",
    "version": 3
   },
   "file_extension": ".py",
   "mimetype": "text/x-python",
   "name": "python",
   "nbconvert_exporter": "python",
   "pygments_lexer": "ipython3",
   "version": "3.13.5"
  }
 },
 "nbformat": 4,
 "nbformat_minor": 5
}
